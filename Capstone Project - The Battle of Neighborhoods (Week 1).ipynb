{
 "cells": [
  {
   "cell_type": "markdown",
   "metadata": {},
   "source": [
    "# Capstone Project - The Battle of the Neighborhoods (Week1)\n",
    "\n",
    "### Applied Data Science Capstone by IBM/Coursera"
   ]
  },
  {
   "cell_type": "markdown",
   "metadata": {},
   "source": [
    "## Introduction\n",
    "\n",
    "Vancouver is a coastal seaport city on the mainland of British Columbia, Canada. Vancouver life is special because of its setting, surrounded by the sea and the mountains. It has a diverse, metropolitan area, yet you are always close to nature. In addition, Vancouver has a diverse population with nearly 40 percent of the people living in the city are immigrants. Therefore, it ranked second in the world's best cities to live in 2019 (based on Wiki) and also ranked second as the world's most expensive cities live in 2020 just after Hong Kong (based on Insider).\n",
    "\n",
    "I recently moved to Vancouver from Toronto and the process to find a place to rent here took me the longest time so i decided to use Vancouver in my project. I think it is not just me but many other people having the same problem when they need to move to a brand new city that they have never visited before. Depending on whether they have car or not, people will have different approaches and requirements. If the answer is yes, they can easily find a cheaper place in the outskirt area. On the other hand, they feel necessity for a place surrounded by many venues and public transportation is a must. However, it is difficult to obtain information that will guide newcomers to choose a suitable place. \n",
    "\n",
    "When we consider all these problems, we can create a map and information chart showing the average rent in Vancouver and each area is clustered according to the venue density\n"
   ]
  },
  {
   "cell_type": "markdown",
   "metadata": {},
   "source": [
    "## Data <a name=\"data\"></a>\n",
    "\n",
    "For this project, we will focus on the rent for **1 bedroom apartment**. Here is a list of datas after considering the problem:\n",
    "* I found the lastest list of average rent for each neighborhood using [Zumper](https://www.zumper.com/rent-research/vancouver-bc). It is one of the most reliable and easiest free website to find a place to rent.\n",
    "* I used **Foursquare API** to get the most common venues of the given neighborhoods.\n",
    "* I used **Google Maps API geocoding** to get coordinates of each neighborhoods."
   ]
  }
 ],
 "metadata": {
  "kernelspec": {
   "display_name": "Python 3",
   "language": "python",
   "name": "python3"
  },
  "language_info": {
   "codemirror_mode": {
    "name": "ipython",
    "version": 3
   },
   "file_extension": ".py",
   "mimetype": "text/x-python",
   "name": "python",
   "nbconvert_exporter": "python",
   "pygments_lexer": "ipython3",
   "version": "3.7.6"
  }
 },
 "nbformat": 4,
 "nbformat_minor": 4
}
